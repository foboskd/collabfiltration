{
 "cells": [
  {
   "cell_type": "markdown",
   "id": "2ab5eba1-ef6b-4a69-b79d-f17f00ce6408",
   "metadata": {},
   "source": [
    "# Задание по теме «Коллаборативная фильтрация»"
   ]
  },
  {
   "cell_type": "markdown",
   "id": "a930b519-8bf0-4c41-bf1b-3587de950bdb",
   "metadata": {},
   "source": [
    "## Пакет SURPRISE:\n",
    "\n",
    "- используйте данные MovieLens 1M,\n",
    "- можно использовать любые модели из пакета,\n",
    "- получите RMSE на тестовом сете 0,87 и ниже.\n"
   ]
  },
  {
   "cell_type": "markdown",
   "id": "958f4118-4e73-4688-9f41-2a8ad25f157e",
   "metadata": {},
   "source": [
    "Комментарий преподавателя:\n",
    "В домашнем задании на датасет 1М может не хватить RAM. Можно сделать на 100K. Качество RMSE предлагаю считать на основе Cross-validation (5 фолдов), а не на отложенном датасете."
   ]
  },
  {
   "cell_type": "code",
   "execution_count": 5,
   "id": "0842d822-254e-4458-a2c2-62b723c7b7b0",
   "metadata": {},
   "outputs": [],
   "source": [
    "from surprise import Dataset, SVD, KNNBasic\n",
    "from surprise.model_selection import cross_validate, GridSearchCV\n",
    "from surprise import accuracy\n",
    "from surprise.model_selection import train_test_split"
   ]
  },
  {
   "cell_type": "markdown",
   "id": "1dafe7d5-19f9-4854-99c6-5ecb8d91b008",
   "metadata": {},
   "source": [
    "### Реализовываем загрузку датасета"
   ]
  },
  {
   "cell_type": "code",
   "execution_count": 6,
   "id": "07b01d73-3911-4221-b93a-cfbc5113fc85",
   "metadata": {},
   "outputs": [
    {
     "name": "stdout",
     "output_type": "stream",
     "text": [
      "Dataset ml-1m could not be found. Do you want to download it? [Y/n] "
     ]
    },
    {
     "name": "stdin",
     "output_type": "stream",
     "text": [
      " Y\n"
     ]
    },
    {
     "name": "stdout",
     "output_type": "stream",
     "text": [
      "Trying to download dataset from https://files.grouplens.org/datasets/movielens/ml-1m.zip...\n",
      "Done! Dataset ml-1m has been saved to /root/.surprise_data/ml-1m\n"
     ]
    }
   ],
   "source": [
    "# Загружаем датасет MovieLens\n",
    "data = Dataset.load_builtin('ml-1m')\n"
   ]
  },
  {
   "cell_type": "markdown",
   "id": "17aaf244-5258-49f8-8d95-30a57a5a0bbc",
   "metadata": {},
   "source": [
    "### Подбор гиперпараметров для модели SVD"
   ]
  },
  {
   "cell_type": "code",
   "execution_count": 7,
   "id": "02e84192-dac8-4f71-8754-c15ee24cb376",
   "metadata": {},
   "outputs": [
    {
     "name": "stdout",
     "output_type": "stream",
     "text": [
      "Лучшие параметры: {'n_epochs': 150, 'lr_all': 0.002, 'reg_all': 0.06}\n"
     ]
    }
   ],
   "source": [
    "# Разделяем данные на обучающий и тестовый наборы\n",
    "trainset, testset = train_test_split(data, test_size=0.2)\n",
    "\n",
    "# Определяем параметры для поиска\n",
    "param_grid = {\n",
    "    'n_epochs': [50, 100, 150],\n",
    "    'lr_all': [0.002, 0.005, 0.007],\n",
    "    'reg_all': [0.02, 0.04, 0.06, 0.08]\n",
    "}\n",
    "\n",
    "# Настраиваем GridSearchCV\n",
    "gs = GridSearchCV(SVD, param_grid, measures=['rmse'], cv=5, n_jobs=-1)\n",
    "\n",
    "# Запускаем поиск параметров\n",
    "gs.fit(data)\n",
    "\n",
    "# Лучшая комбинация параметров\n",
    "print(\"Лучшие параметры:\", gs.best_params['rmse'])\n",
    "\n",
    "# Получим лучшую модель\n",
    "best_model = gs.best_estimator['rmse']\n"
   ]
  },
  {
   "cell_type": "markdown",
   "id": "9df457cd-1b03-48a9-ba0f-55045800dc41",
   "metadata": {},
   "source": [
    "### Финальная проверка качества на кросс-валидации"
   ]
  },
  {
   "cell_type": "code",
   "execution_count": 8,
   "id": "94c1d6fc-6f60-445a-b4f7-5053efe970f7",
   "metadata": {},
   "outputs": [
    {
     "name": "stdout",
     "output_type": "stream",
     "text": [
      "Evaluating RMSE of algorithm SVD on 5 split(s).\n",
      "\n",
      "                  Fold 1  Fold 2  Fold 3  Fold 4  Fold 5  Mean    Std     \n",
      "RMSE (testset)    0.8492  0.8502  0.8533  0.8495  0.8488  0.8502  0.0016  \n",
      "Fit time          32.15   32.03   30.23   32.82   30.20   31.49   1.07    \n",
      "Test time         0.81    0.69    0.68    0.78    0.68    0.73    0.06    \n",
      "\n",
      "Средний RMSE по 5 фолдам: 0.8502\n",
      "RMSE: 0.8507\n"
     ]
    }
   ],
   "source": [
    "# Проверим RMSE на 5 фолдах с лучшей моделью\n",
    "results = cross_validate(best_model, data, measures=['RMSE'], cv=5, verbose=True)\n",
    "\n",
    "# Среднее значение RMSE\n",
    "mean_rmse = sum(results['test_rmse']) / len(results['test_rmse'])\n",
    "print(f\"\\nСредний RMSE по 5 фолдам: {mean_rmse:.4f}\")\n",
    "\n",
    "# Тестируем на отложенном наборе данных\n",
    "best_model.fit(trainset)\n",
    "predictions = best_model.test(testset)\n",
    "test_rmse = accuracy.rmse(predictions)"
   ]
  },
  {
   "cell_type": "code",
   "execution_count": null,
   "id": "b72d0cd9-7f96-4854-9bd8-6d57ccbda429",
   "metadata": {},
   "outputs": [],
   "source": []
  }
 ],
 "metadata": {
  "kernelspec": {
   "display_name": "Python 3 (ipykernel)",
   "language": "python",
   "name": "python3"
  },
  "language_info": {
   "codemirror_mode": {
    "name": "ipython",
    "version": 3
   },
   "file_extension": ".py",
   "mimetype": "text/x-python",
   "name": "python",
   "nbconvert_exporter": "python",
   "pygments_lexer": "ipython3",
   "version": "3.10.17"
  }
 },
 "nbformat": 4,
 "nbformat_minor": 5
}
